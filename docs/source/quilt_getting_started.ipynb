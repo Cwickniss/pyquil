{
 "cells": [
  {
   "cell_type": "markdown",
   "metadata": {},
   "source": [
    "# Getting Up and Running with Quilt\n",
    "\n",
    "## Language Documentation\n",
    "\n",
    "See https://github.com/rigetti/quil/tree/master/rfcs/analog (in particular, `proposal.md` and `spec_changes.md`) for documentation on the Quilt language.\n",
    "\n",
    "Note that we currently have only a subset of the proposed features in place. In particular,\n",
    "\n",
    "* `RAW-CAPTURE` is not currently supported\n",
    "* classical control operations are not supported\n",
    "\n",
    "## Install quilt version of PyQuil\n",
    "\n",
    "These are both special branches on the public github repos. Assuming that you are working from your QMI, this could look something like this:\n",
    "\n",
    "```\n",
    "source ~/.virtualenvs/venv/bin/activate\n",
    "pip uninstall pyquil\n",
    "pip install git+https://github.com/rigetti/pyquil.git@quilt-demo\n",
    "```\n",
    "\n",
    "**Note**: It is possible that hotfixes will be pushed to these branches, as the need arises. I suggest checking for updates on the github or via the Rigetti-Horizon slack channel on roughly a daily cadence."
   ]
  },
  {
   "cell_type": "markdown",
   "metadata": {},
   "source": [
    "## Construct a `QuantumComputer` object linked to the Quilt compiler"
   ]
  },
  {
   "cell_type": "code",
   "execution_count": 2,
   "metadata": {},
   "outputs": [],
   "source": [
    "from pyquil import Program, get_qc\n",
    "qc = get_qc(\"Aspen-8\")"
   ]
  },
  {
   "cell_type": "markdown",
   "metadata": {},
   "source": [
    "As a sanity check, the following call should work."
   ]
  },
  {
   "cell_type": "code",
   "execution_count": 3,
   "metadata": {},
   "outputs": [
    {
     "data": {
      "text/plain": [
       "{'quilc': {'quilc': '1.19.0', 'githash': 'cc06660'},\n",
       " 'qpu_compiler': {'data': {'device_specifications': 1594750259,\n",
       "   'qpu_specifications': 1594750259,\n",
       "   'translation_settings': 1594750284},\n",
       "  'dependencies': {'message_spec': '3.3.0',\n",
       "   'rpc_framework': '3.3.0',\n",
       "   'translator': '2.14.0.7.152131677'},\n",
       "  'version': '1.0.0'}}"
      ]
     },
     "execution_count": 3,
     "metadata": {},
     "output_type": "execute_result"
    }
   ],
   "source": [
    "qc.compiler.get_version_info()"
   ]
  },
  {
   "cell_type": "markdown",
   "metadata": {},
   "source": [
    "## Get Quilt Calibrations\n",
    "\n",
    "A production QPU has a set of calibrations associated with it. These include frame definitions, gate and measurement calibrations, and custom waveforms. Below we show how to get the default calibrations.\n",
    "\n",
    "**Note**: This depends on run-time configuration of the QPU, and is likely to vary over time."
   ]
  },
  {
   "cell_type": "code",
   "execution_count": 5,
   "metadata": {},
   "outputs": [],
   "source": [
    "cals = qc.compiler.get_quilt_calibrations()"
   ]
  },
  {
   "cell_type": "markdown",
   "metadata": {},
   "source": [
    "### Frame Definitions\n",
    "\n",
    "Frame definitions correspond to specific hardware channels. These have a name (e.g. `0 \"ro_rx\"` for the hardware readout receive channel on Qubit 0), and some metadata (DAC sample rate, initial frame frequency, and a direction).\n",
    "\n",
    "**Note**: These are fixed and should not be edited. If you wish to set a frame's frequency to one different from its initial frequency, your Quilt program should use `SET-FREQUENCY` (for an absolute value) or `SHIFT-FREQUENCY` (for a relative shift)."
   ]
  },
  {
   "cell_type": "code",
   "execution_count": 6,
   "metadata": {},
   "outputs": [
    {
     "name": "stdout",
     "output_type": "stream",
     "text": [
      "DEFFRAME 0 1 \"cz\":\n",
      "    DIRECTION: \"tx\"\n",
      "    INITIAL-FREQUENCY: 220487409.16137844\n",
      "    CENTER-FREQUENCY: 375000000.0\n",
      "    HARDWARE-OBJECT: \"q0_ff\"\n",
      "    SAMPLE-RATE: 1000000000.0\n",
      "\n"
     ]
    }
   ],
   "source": [
    "from pyquil.quilatom import Frame\n",
    "\n",
    "print(cals.frames[Frame([0,1], \"cz\")])"
   ]
  },
  {
   "cell_type": "markdown",
   "metadata": {},
   "source": [
    "### Gate Calibrations\n",
    "\n",
    "Gate and Measurement calibrations present the current Quilt specification of Rigetti's native gates. "
   ]
  },
  {
   "cell_type": "code",
   "execution_count": 13,
   "metadata": {},
   "outputs": [
    {
     "name": "stdout",
     "output_type": "stream",
     "text": [
      "252 total calibrations, peeking at first two:\n",
      "\n",
      "DEFCAL RX(pi/2) 0:\n",
      "    FENCE 0\n",
      "    NONBLOCKING PULSE 0 \"rf\" drag_gaussian(duration: 1.2e-07, fwhm: 3e-08, t0: 6e-08, anh: -190000000.0, alpha: -0.5649335568941984, scale: 0.317954007053111, phase: 0.0, detuning: 0.0)\n",
      "    FENCE 0\n",
      "\n",
      "DEFCAL RX(-pi/2) 0:\n",
      "    FENCE 0\n",
      "    NONBLOCKING PULSE 0 \"rf\" drag_gaussian(duration: 1.2e-07, fwhm: 3e-08, t0: 6e-08, anh: -190000000.0, alpha: -0.5649335568941984, scale: -0.317954007053111, phase: 0.0, detuning: 0.0)\n",
      "    FENCE 0\n",
      "\n"
     ]
    }
   ],
   "source": [
    "print(len(cals.calibrations), \"total calibrations, peeking at first two:\\n\")\n",
    "for defn in cals.calibrations[:2]:\n",
    "    print(defn)"
   ]
  },
  {
   "cell_type": "markdown",
   "metadata": {},
   "source": [
    "### Waveform Definitions\n",
    "\n",
    "Certain gates (e.g. `RX` gates above) use template waveforms. Others, notably `CZ` gates, use custom waveforms. The `waveforms` member maps waveform names to their definitions."
   ]
  },
  {
   "cell_type": "code",
   "execution_count": 14,
   "metadata": {},
   "outputs": [
    {
     "data": {
      "text/plain": [
       "{'q0_q1_cz/CZ': <pyquil.quilbase.DefWaveform at 0x1298b8518>,\n",
       " 'q0_q7_cz/CZ': <pyquil.quilbase.DefWaveform at 0x1298b8470>,\n",
       " 'q2_q3_cz/CZ': <pyquil.quilbase.DefWaveform at 0x1298b8630>,\n",
       " 'q3_q4_cz/CZ': <pyquil.quilbase.DefWaveform at 0x1298b86a0>,\n",
       " 'q4_q5_cz/CZ': <pyquil.quilbase.DefWaveform at 0x1298b86d8>,\n",
       " 'q5_q6_cz/CZ': <pyquil.quilbase.DefWaveform at 0x1298b8710>,\n",
       " 'q6_q7_cz/CZ': <pyquil.quilbase.DefWaveform at 0x1298b8748>,\n",
       " 'q1_q16_cz/CZ': <pyquil.quilbase.DefWaveform at 0x1298b8780>,\n",
       " 'q2_q15_cz/CZ': <pyquil.quilbase.DefWaveform at 0x1298b87b8>,\n",
       " 'q11_q12_cz/CZ': <pyquil.quilbase.DefWaveform at 0x1298b87f0>,\n",
       " 'q11_q26_cz/CZ': <pyquil.quilbase.DefWaveform at 0x1298b8828>,\n",
       " 'q12_q13_cz/CZ': <pyquil.quilbase.DefWaveform at 0x1298b8860>,\n",
       " 'q13_q14_cz/CZ': <pyquil.quilbase.DefWaveform at 0x1298b8898>,\n",
       " 'q14_q15_cz/CZ': <pyquil.quilbase.DefWaveform at 0x1298b88d0>,\n",
       " 'q15_q16_cz/CZ': <pyquil.quilbase.DefWaveform at 0x1298b8908>,\n",
       " 'q16_q17_cz/CZ': <pyquil.quilbase.DefWaveform at 0x1298b8940>,\n",
       " 'q20_q21_cz/CZ': <pyquil.quilbase.DefWaveform at 0x1298b8978>,\n",
       " 'q20_q27_cz/CZ': <pyquil.quilbase.DefWaveform at 0x1298b89b0>,\n",
       " 'q21_q36_cz/CZ': <pyquil.quilbase.DefWaveform at 0x1298b8a20>,\n",
       " 'q22_q23_cz/CZ': <pyquil.quilbase.DefWaveform at 0x1298b89e8>,\n",
       " 'q22_q35_cz/CZ': <pyquil.quilbase.DefWaveform at 0x1298b8a58>,\n",
       " 'q23_q24_cz/CZ': <pyquil.quilbase.DefWaveform at 0x1298b8a90>,\n",
       " 'q24_q25_cz/CZ': <pyquil.quilbase.DefWaveform at 0x1298b8ac8>,\n",
       " 'q25_q26_cz/CZ': <pyquil.quilbase.DefWaveform at 0x1298b8b00>,\n",
       " 'q26_q27_cz/CZ': <pyquil.quilbase.DefWaveform at 0x1298b8b38>,\n",
       " 'q30_q31_cz/CZ': <pyquil.quilbase.DefWaveform at 0x1298b8b70>,\n",
       " 'q30_q37_cz/CZ': <pyquil.quilbase.DefWaveform at 0x1298b8ba8>,\n",
       " 'q31_q32_cz/CZ': <pyquil.quilbase.DefWaveform at 0x1298b8be0>,\n",
       " 'q32_q33_cz/CZ': <pyquil.quilbase.DefWaveform at 0x1298b8c18>,\n",
       " 'q33_q34_cz/CZ': <pyquil.quilbase.DefWaveform at 0x1298b8c50>,\n",
       " 'q34_q35_cz/CZ': <pyquil.quilbase.DefWaveform at 0x1298b8c88>,\n",
       " 'q35_q36_cz/CZ': <pyquil.quilbase.DefWaveform at 0x1298b8cc0>,\n",
       " 'q36_q37_cz/CZ': <pyquil.quilbase.DefWaveform at 0x1298b8cf8>}"
      ]
     },
     "execution_count": 14,
     "metadata": {},
     "output_type": "execute_result"
    }
   ],
   "source": [
    "cals.waveforms"
   ]
  },
  {
   "cell_type": "markdown",
   "metadata": {},
   "source": [
    "Here is what one of these definitions looks like."
   ]
  },
  {
   "cell_type": "code",
   "execution_count": 15,
   "metadata": {},
   "outputs": [
    {
     "name": "stdout",
     "output_type": "stream",
     "text": [
      "DEFWAVEFORM q0_q1_cz/CZ:\n",
      "    0.0, 0.0, 0.0, 0.0, 0.0, 0.0, 0.0, 0.0, 0.00018111029039926432, 0.0026091264902731257, 0.02001298226278704, 0.08454579855165967, 0.20870560449196118, 0.33286541043226264, 0.3973982267211353, 0.41480208249364925, 0.41723009869352307, 0.4174046471583208, 0.4174110863986942, 0.4174112078123502, 0.4174112089782243, 0.4174112089839083, 0.41741120898392237, 0.41741120898392237, 0.41741120898392237, 0.41741120898392237, 0.41741120898392237, 0.41741120898392237, 0.41741120898392237, 0.41741120898392237, 0.41741120898392237, 0.41741120898392237, 0.41741120898392237, 0.41741120898392237, 0.41741120898392237, 0.41741120898392237, 0.41741120898392237, 0.41741120898392237, 0.41741120898392237, 0.41741120898392237, 0.41741120898392237, 0.41741120898392237, 0.41741120898392237, 0.41741120898392237, 0.41741120898392237, 0.41741120898392237, 0.41741120898392237, 0.41741120898392237, 0.41741120898392237, 0.41741120898392237, 0.41741120898392237, 0.41741120898392237, 0.41741120898392237, 0.41741120898392237, 0.41741120898392237, 0.41741120898392237, 0.41741120898392237, 0.41741120898392237, 0.41741120898392237, 0.41741120898392237, 0.41741120898392237, 0.41741120898392237, 0.41741120898392237, 0.41741120898392237, 0.41741120898392237, 0.41741120898392237, 0.41741120898392237, 0.41741120898392237, 0.41741120898392237, 0.41741120898392237, 0.41741120898392237, 0.41741120898392237, 0.41741120898392237, 0.41741120898392237, 0.41741120898392237, 0.41741120898392237, 0.41741120898392237, 0.41741120898392237, 0.41741120898392237, 0.41741120898392237, 0.41741120898392237, 0.41741120898392237, 0.41741120898392237, 0.41741120898392237, 0.41741120898392237, 0.41741120898392237, 0.41741120898392237, 0.41741120898392237, 0.41741120898392237, 0.41741120898392237, 0.41741120898392237, 0.41741120898392237, 0.41741120898392237, 0.41741120898392237, 0.41741120898392237, 0.41741120898392237, 0.41741120898392237, 0.41741120898392237, 0.41741120898392237, 0.4174112089839083, 0.4174112089782243, 0.4174112078123502, 0.4174110863986942, 0.4174046471583208, 0.41723009869352307, 0.41480208249364925, 0.39739822672113545, 0.3328654104322636, 0.20870560449196118, 0.0845457985516601, 0.020012982262787322, 0.0026091264902731257, 0.0, 0.0, 0.0, 0.0, 0.0, 0.0, 0.0, 0.0\n"
     ]
    }
   ],
   "source": [
    "print(next(iter(cals.waveforms.values())))"
   ]
  },
  {
   "cell_type": "markdown",
   "metadata": {},
   "source": [
    "## Compiling and running a Quilt Program\n",
    "\n",
    "\n",
    "There are three ways to access the compiler from PyQuil:\n",
    "\n",
    "* `qc.compile` is the usual pipeline, and **only works for Quil code**\n",
    "* `qc.compiler.quil_to_native_quil` is the entry point for compiling Quil to native Quil\n",
    "* `qc.compiler.native_quil_to_executable` is the entry point for compiling **Quilt** programs\n",
    "\n",
    "In particular, the usual workflow of just delegating to `qc.compile` does not currently work with Quilt. If you wish to use Quilt right now, your workflow should involve\n",
    "1. calling `qc.compiler.quil_to_native_quil` on code blocks which do not involve Quilt or Quilt calibrations\n",
    "2. subsequently calling `qc.compiler.native_quil_to_executable` on blocks involving Quilt"
   ]
  },
  {
   "cell_type": "markdown",
   "metadata": {},
   "source": [
    "### Compiling Quil Programs\n",
    "\n",
    "`qc.compiler.native_quil_to_executable` requires native Quil + Quilt operations. In particular, it is assumed that the only gates used are those Rigetti native gates, or ones for which you have provided explicit calibrations. For example, the program below expresses\n",
    "\n",
    "```\n",
    "DECLARE ro BIT\n",
    "H 0\n",
    "CNOT 0 1\n",
    "MEASURE 0 ro\n",
    "```\n",
    "\n",
    "using Rigetti native gates by first using `qc.compiler.quil_to_native_quil`."
   ]
  },
  {
   "cell_type": "code",
   "execution_count": 9,
   "metadata": {},
   "outputs": [
    {
     "name": "stdout",
     "output_type": "stream",
     "text": [
      "DECLARE ro BIT[1]\n",
      "RZ(pi/2) 0\n",
      "RX(pi/2) 0\n",
      "RZ(-pi/2) 1\n",
      "RX(pi/2) 1\n",
      "CZ 1 0\n",
      "RZ(-pi/2) 0\n",
      "MEASURE 0 ro[0]\n",
      "RX(-pi/2) 1\n",
      "RZ(pi/2) 1\n",
      "HALT\n",
      "\n"
     ]
    }
   ],
   "source": [
    "prog = Program(\n",
    "    'DECLARE ro BIT',\n",
    "    'H 0',\n",
    "    'CNOT 0 1',\n",
    "    'MEASURE 0 ro'\n",
    ")\n",
    "compiled = qc.compiler.quil_to_native_quil(prog)\n",
    "print(compiled)"
   ]
  },
  {
   "cell_type": "code",
   "execution_count": 10,
   "metadata": {},
   "outputs": [],
   "source": [
    "exe = qc.compiler.native_quil_to_executable(compiled)"
   ]
  },
  {
   "cell_type": "markdown",
   "metadata": {},
   "source": [
    "**Note**: The above compilation may be done even when not on an active QPU reservation. However,\n",
    "\n",
    "* as always, the executable cannot be run until on an active QPU reservation\n",
    "* the QPU settings used for compilation may go stale\n",
    "\n",
    "Therefore, we suggest that although you may rely on `qc.compiler.native_quil_to_executable` for development purposes (for example, to verify correct Quilt syntax), when executing on a QPU all Quilt programs should be compiled afresh.\n",
    "\n",
    "Running the executable proceeds as before:"
   ]
  },
  {
   "cell_type": "code",
   "execution_count": 11,
   "metadata": {},
   "outputs": [
    {
     "data": {
      "text/plain": [
       "array([[1]])"
      ]
     },
     "execution_count": 11,
     "metadata": {},
     "output_type": "execute_result"
    }
   ],
   "source": [
    "qc.run(exe)"
   ]
  },
  {
   "cell_type": "markdown",
   "metadata": {},
   "source": [
    "### Another example: a simple T1 experiment\n",
    "\n",
    "As an example of mixing Quil with the new Quilt instructions, we consider a simple T1 experiment. In short, we\n",
    "\n",
    "1. excite the qubit state\n",
    "2. wait some amount of time\n",
    "3. measure out\n",
    "\n",
    "In this example, we do not do any further data analysis. The purpose here is simply to demonstrate how to compile and run a Quilt program."
   ]
  },
  {
   "cell_type": "code",
   "execution_count": 12,
   "metadata": {},
   "outputs": [],
   "source": [
    "def t1_program(time, qubit, num_shots=1000):\n",
    "    prog = Program( \"DECLARE ro BIT\\n\"\n",
    "                   f\"RX(pi) {qubit}\\n\"\n",
    "                   f\"FENCE 0\\n\"\n",
    "                   f\"DELAY {qubit} {time}\\n\"\n",
    "                   f\"MEASURE {qubit} ro\")\n",
    "    prog.wrap_in_numshots_loop(num_shots)\n",
    "    return prog"
   ]
  },
  {
   "cell_type": "code",
   "execution_count": 13,
   "metadata": {
    "scrolled": true
   },
   "outputs": [
    {
     "name": "stdout",
     "output_type": "stream",
     "text": [
      "time: 2.00e-08 \tprob: 0.97\n",
      "time: 3.88e-08 \tprob: 0.96\n",
      "time: 7.54e-08 \tprob: 0.94\n",
      "time: 1.47e-07 \tprob: 0.92\n",
      "time: 2.85e-07 \tprob: 0.87\n",
      "time: 5.53e-07 \tprob: 0.8\n",
      "time: 1.07e-06 \tprob: 0.77\n",
      "time: 2.08e-06 \tprob: 0.64\n",
      "time: 4.05e-06 \tprob: 0.52\n",
      "time: 7.86e-06 \tprob: 0.34\n",
      "time: 1.53e-05 \tprob: 0.23\n",
      "time: 2.96e-05 \tprob: 0.06\n",
      "time: 5.76e-05 \tprob: 0.051\n",
      "time: 1.12e-04 \tprob: 0.042\n",
      "time: 2.17e-04 \tprob: 0.043\n",
      "time: 4.22e-04 \tprob: 0.046\n",
      "time: 8.19e-04 \tprob: 0.044\n",
      "time: 1.59e-03 \tprob: 0.043\n",
      "time: 3.09e-03 \tprob: 0.039\n",
      "time: 6.00e-03 \tprob: 0.043\n"
     ]
    }
   ],
   "source": [
    "import numpy as np\n",
    "\n",
    "probs = []\n",
    "\n",
    "times = np.geomspace(20e-9, 60e-4, 20)\n",
    "for time in times:\n",
    "    prog = t1_program(time, 0)\n",
    "    exe = qc.compiler.native_quil_to_executable(prog)\n",
    "    results = qc.run(exe)\n",
    "    prob = np.sum(results) / results.size\n",
    "    probs.append(prob)\n",
    "    print(f\"time: {time:.2e} \\tprob: {prob:.2}\")"
   ]
  },
  {
   "cell_type": "code",
   "execution_count": 29,
   "metadata": {},
   "outputs": [
    {
     "data": {
      "image/png": "[encoded data removed]",
      "text/plain": [
       "<Figure size 432x288 with 1 Axes>"
      ]
     },
     "metadata": {
      "needs_background": "light"
     },
     "output_type": "display_data"
    }
   ],
   "source": [
    "%matplotlib inline\n",
    "import matplotlib.pyplot as plt\n",
    "\n",
    "plt.semilogx(times, probs, '-')\n",
    "plt.xlabel('time (s)')\n",
    "plt.ylabel('p')\n",
    "plt.show()"
   ]
  },
  {
   "cell_type": "markdown",
   "metadata": {},
   "source": [
    "### Using a Custom Calibration\n",
    "\n",
    "All gate and measure applications in a Quilt program are translated according to either user-supplied or Rigetti calibrations. To easily check which calibration applies to a specific gate, use the `Program.match_calibrations` method."
   ]
  },
  {
   "cell_type": "code",
   "execution_count": 15,
   "metadata": {},
   "outputs": [
    {
     "name": "stdout",
     "output_type": "stream",
     "text": [
      "DEFCAL RX(pi) 0:\n",
      "    FENCE 0\n",
      "    NONBLOCKING PULSE 0 \"rf\" drag_gaussian(duration: 1.2e-07, fwhm: 3e-08, t0: 6e-08, anh: -210000000.0, alpha: -2.161864198324805, scale: 0.785911959196345, phase: 0.0, detuning: 0.0)\n",
      "    FENCE 0\n",
      "\n"
     ]
    }
   ],
   "source": [
    "from math import pi\n",
    "from pyquil.gates import RX\n",
    "\n",
    "print(cals.get_calibration(RX(pi, 0)))"
   ]
  },
  {
   "cell_type": "markdown",
   "metadata": {},
   "source": [
    "None of the above programs needed us to specify calibrations. By default, the Rigetti native calibrations are used. However, if you specify a calibration in a program, it will take precedence over the native calibrations."
   ]
  },
  {
   "cell_type": "code",
   "execution_count": 16,
   "metadata": {},
   "outputs": [],
   "source": [
    "prog = t1_program(1e-6, 0)\n",
    "\n",
    "# Note: we did NOT specify a calibration for RX(pi) 0 in our previous program\n",
    "assert prog.match_calibrations(RX(pi, 0)) is None\n",
    "# The Quilt translator provided the default: namely, the same calibration we obtained for ourselves\n",
    "# with `qc.compiler.get_quilt_calibrations()`."
   ]
  },
  {
   "cell_type": "markdown",
   "metadata": {},
   "source": [
    "In the example below, we use a custom calibration, we conjugate the usual pulse with a frequency shift. There's no motivation for the particular value used, beyond simply showing what is possible."
   ]
  },
  {
   "cell_type": "code",
   "execution_count": 17,
   "metadata": {},
   "outputs": [
    {
     "name": "stdout",
     "output_type": "stream",
     "text": [
      "DEFCAL RX(pi/2) 0:\n",
      "    FENCE 0\n",
      "    SET-SCALE 0 \"rf\" 0.353088482172993\n",
      "    SHIFT-FREQUENCY 0 \"rf\" 1000000.0\n",
      "    NONBLOCKING PULSE 0 \"rf\" drag_gaussian(duration: 6.000000000000001e-08, fwhm: 1.5000000000000002e-08, t0: 3.0000000000000004e-08, anh: -210000000.0, alpha: 6.389096630631076)\n",
      "    SHIFT-FREQUENCY 0 \"rf\" -1000000.0\n",
      "    FENCE 0\n",
      "\n",
      "DECLARE ro BIT[1]\n",
      "RX(pi/2) 0\n",
      "MEASURE 0 ro[0]\n",
      "\n"
     ]
    }
   ],
   "source": [
    "prog = Program(\"\"\"DEFCAL RX(pi/2) 0:\n",
    "    FENCE 0\n",
    "    SET-SCALE 0 \"rf\" 0.353088482172993\n",
    "    SHIFT-FREQUENCY 0 \"rf\" 1e6\n",
    "    NONBLOCKING PULSE 0 \"rf\" drag_gaussian(duration: 6.000000000000001e-08, fwhm: 1.5000000000000002e-08, t0: 3.0000000000000004e-08, anh: -210000000.0, alpha: 6.389096630631076)\n",
    "    SHIFT-FREQUENCY 0 \"rf\" -1e6\n",
    "    FENCE 0\n",
    "\n",
    "DECLARE ro BIT\n",
    "RX(pi/2) 0\n",
    "MEASURE 0 ro\"\"\")\n",
    "print(prog)"
   ]
  },
  {
   "cell_type": "code",
   "execution_count": 18,
   "metadata": {},
   "outputs": [
    {
     "name": "stdout",
     "output_type": "stream",
     "text": [
      "DEFCAL RX(pi/2) 0:\n",
      "    FENCE 0\n",
      "    SET-SCALE 0 \"rf\" 0.353088482172993\n",
      "    SHIFT-FREQUENCY 0 \"rf\" 1000000.0\n",
      "    NONBLOCKING PULSE 0 \"rf\" drag_gaussian(duration: 6.000000000000001e-08, fwhm: 1.5000000000000002e-08, t0: 3.0000000000000004e-08, anh: -210000000.0, alpha: 6.389096630631076)\n",
      "    SHIFT-FREQUENCY 0 \"rf\" -1000000.0\n",
      "    FENCE 0\n",
      "\n"
     ]
    }
   ],
   "source": [
    "print(prog.get_calibration(RX(pi/2, 0)))"
   ]
  },
  {
   "cell_type": "code",
   "execution_count": 19,
   "metadata": {},
   "outputs": [],
   "source": [
    "exe = qc.compiler.native_quil_to_executable(prog)"
   ]
  },
  {
   "cell_type": "code",
   "execution_count": 20,
   "metadata": {},
   "outputs": [
    {
     "data": {
      "text/plain": [
       "array([[0]])"
      ]
     },
     "execution_count": 20,
     "metadata": {},
     "output_type": "execute_result"
    }
   ],
   "source": [
    "qc.run(exe)"
   ]
  },
  {
   "cell_type": "markdown",
   "metadata": {},
   "source": [
    "Of course, it is not required to use calibrations. One can construct an equivalent program by replacing the `RX` gate with the body of the calibration:"
   ]
  },
  {
   "cell_type": "code",
   "execution_count": 21,
   "metadata": {},
   "outputs": [],
   "source": [
    "prog = Program(\"\"\"\n",
    "DECLARE ro BIT\n",
    "FENCE 0\n",
    "SET-SCALE 0 \"rf\" 0.353088482172993\n",
    "SHIFT-FREQUENCY 0 \"rf\" 1e6\n",
    "NONBLOCKING PULSE 0 \"rf\" drag_gaussian(duration: 6.000000000000001e-08, fwhm: 1.5000000000000002e-08, t0: 3.0000000000000004e-08, anh: -210000000.0, alpha: 6.389096630631076)\n",
    "SHIFT-FREQUENCY 0 \"rf\" -1e6\n",
    "FENCE 0\n",
    "MEASURE 0 ro\n",
    "\"\"\".strip())"
   ]
  },
  {
   "cell_type": "code",
   "execution_count": 22,
   "metadata": {},
   "outputs": [],
   "source": [
    "exe = qc.compiler.native_quil_to_executable(prog)"
   ]
  },
  {
   "cell_type": "code",
   "execution_count": 23,
   "metadata": {},
   "outputs": [
    {
     "data": {
      "text/plain": [
       "array([[0]])"
      ]
     },
     "execution_count": 23,
     "metadata": {},
     "output_type": "execute_result"
    }
   ],
   "source": [
    "qc.run(exe)"
   ]
  },
  {
   "cell_type": "markdown",
   "metadata": {},
   "source": [
    "#### Parametric Calibrations"
   ]
  },
  {
   "cell_type": "markdown",
   "metadata": {},
   "source": [
    "Some calibrations (e.g. for `RX`) are defined for specific parameter values. Others may depend on general symbolic values, as with `RZ`."
   ]
  },
  {
   "cell_type": "code",
   "execution_count": 24,
   "metadata": {},
   "outputs": [
    {
     "name": "stdout",
     "output_type": "stream",
     "text": [
      "DEFCAL RZ(%theta) 0:\n",
      "    FENCE 0\n",
      "    SHIFT-PHASE 0 \"rf\" -1.0*%theta\n",
      "    SHIFT-PHASE 0 1 \"xy\" -0.5*%theta\n",
      "    FENCE 0\n",
      "\n"
     ]
    }
   ],
   "source": [
    "from pyquil.gates import RZ\n",
    "\n",
    "print(cals.get_calibration(RZ(pi,0)))"
   ]
  },
  {
   "cell_type": "markdown",
   "metadata": {},
   "source": [
    "To get more information about how the matching calibration applies to a specific gate, use `Program.match_calibrations`. The result is a `CalibrationMatch` object which indicates not just the calibration, but the value for parameters."
   ]
  },
  {
   "cell_type": "code",
   "execution_count": 25,
   "metadata": {},
   "outputs": [
    {
     "name": "stdout",
     "output_type": "stream",
     "text": [
      "DEFCAL RZ(%theta) 0:\n",
      "    FENCE 0\n",
      "    SHIFT-PHASE 0 \"rf\" -1.0*%theta\n",
      "    SHIFT-PHASE 0 1 \"xy\" -0.5*%theta\n",
      "    FENCE 0\n",
      "\n",
      "{Parameter('theta'): 3.141592653589793}\n"
     ]
    }
   ],
   "source": [
    "match = cals.match_calibrations(RZ(pi,0))\n",
    "print(match.cal)\n",
    "print(match.settings)"
   ]
  },
  {
   "cell_type": "markdown",
   "metadata": {},
   "source": [
    "You may conveniently recover the body of the calibration, with the matched parameters substituted, using `Program.calibrate`."
   ]
  },
  {
   "cell_type": "code",
   "execution_count": 26,
   "metadata": {},
   "outputs": [
    {
     "name": "stdout",
     "output_type": "stream",
     "text": [
      "FENCE 0\n",
      "SHIFT-PHASE 0 \"rf\" -3.141592653589793\n",
      "SHIFT-PHASE 0 1 \"xy\" -1.5707963267948966\n",
      "FENCE 0\n"
     ]
    }
   ],
   "source": [
    "instrs = cals.calibrate(RZ(pi,0))\n",
    "for instr in instrs:\n",
    "    print(instr)"
   ]
  },
  {
   "cell_type": "markdown",
   "metadata": {},
   "source": [
    "### Non-Native Gates\n",
    "As mentioned above, the `qc.compiler.native_quil_to_executable` call will provide calibrations for Rigetti native gates, if they are not provided by a user. However, a program with non-native gates and no corresponding user-provided calibrations will result in a compilation failure."
   ]
  },
  {
   "cell_type": "code",
   "execution_count": 27,
   "metadata": {},
   "outputs": [
    {
     "name": "stderr",
     "output_type": "stream",
     "text": [
      "ERROR - QPU Compiler native_quilt_to_binary failed: Unable to find matching calibration for H 0.\n"
     ]
    },
    {
     "name": "stdout",
     "output_type": "stream",
     "text": [
      "Fails on non-native operations {H, CNOT} as expected.\n"
     ]
    }
   ],
   "source": [
    "prog = Program(\"DECLARE ro BIT\\n\"\n",
    "               \"H 0\\n\"\n",
    "               \"CNOT 0 1\\n\"\n",
    "               \"MEASURE 0 ro\")\n",
    "\n",
    "try:\n",
    "    qc.compiler.native_quil_to_executable(prog)\n",
    "except Exception as e:\n",
    "    print(\"Fails on non-native operations {H, CNOT} as expected.\")"
   ]
  },
  {
   "cell_type": "code",
   "execution_count": null,
   "metadata": {},
   "outputs": [],
   "source": []
  }
 ],
 "metadata": {
  "kernelspec": {
   "display_name": "Python 3",
   "language": "python",
   "name": "python3"
  },
  "language_info": {
   "codemirror_mode": {
    "name": "ipython",
    "version": 3
   },
   "file_extension": ".py",
   "mimetype": "text/x-python",
   "name": "python",
   "nbconvert_exporter": "python",
   "pygments_lexer": "ipython3",
   "version": "3.6.10"
  },
  "toc": {
   "base_numbering": 1,
   "nav_menu": {},
   "number_sections": true,
   "sideBar": true,
   "skip_h1_title": false,
   "title_cell": "Table of Contents",
   "title_sidebar": "Contents",
   "toc_cell": false,
   "toc_position": {},
   "toc_section_display": true,
   "toc_window_display": false
  }
 },
 "nbformat": 4,
 "nbformat_minor": 2
}
